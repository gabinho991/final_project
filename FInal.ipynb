{
 "cells": [
  {
   "cell_type": "code",
   "execution_count": 1,
   "metadata": {},
   "outputs": [],
   "source": [
    "from pyspark.context import SparkContext\n",
    "from pyspark.sql.session import SparkSession\n",
    "import pandas as pd\n",
    "import findspark\n",
    "from pyspark.sql.functions import *\n",
    "import os\n",
    "import matplotlib.pyplot as plt\n",
    "import matplotlib.pyplot as plt\n",
    "from matplotlib.pyplot import figure\n",
    "#os.environ[\"HADOOP_HOME\"] = \"C:\\Hadoop-3.3.0\"\n",
    "#os.environ[\"JAVA_HOME\"] = \"C:\\Java\\jdk1.8.0_341\"\n",
    "findspark.add_packages('mysql:mysql-connector-java:8.0.23')\n",
    "\n",
    "spark = SparkSession.builder.getOrCreate()\n",
    "import tkinter as tk"
   ]
  },
  {
   "cell_type": "code",
   "execution_count": 7,
   "metadata": {},
   "outputs": [
    {
     "name": "stdout",
     "output_type": "stream",
     "text": [
      "Connected to SQL  version  5.5.5-10.9.1-MariaDB\n",
      "Error while connecting to Database 1007 (HY000): Can't create database 'creditcard_capstone'; database exists\n",
      "Database connection is closed\n"
     ]
    }
   ],
   "source": [
    "import mysql.connector as mariadb\n",
    "from mysql.connector import Error\n",
    "try:\n",
    "    connection = mariadb.connect(host='localhost',\n",
    "                                         user='root',\n",
    "                                         password='2107')\n",
    "    if connection.is_connected():\n",
    "        db_Info = connection.get_server_info()\n",
    "        print(\"Connected to SQL  version \", db_Info)\n",
    "        cursor = connection.cursor()\n",
    "        cursor.execute(\"create database creditcard_capstone\")\n",
    "        record = cursor.fetchone()\n",
    "        print(\"You're connected to database: \", record)\n",
    "        cursor = connection.cursor()\n",
    "        sql_select_Query = \"select * from offices\"\n",
    "        cursor = connection.cursor()\n",
    "        cursor.execute(sql_select_Query)\n",
    "\n",
    "except Error as e:\n",
    "    print(\"Error while connecting to Database\", e)\n",
    "finally:\n",
    "    if connection.is_connected():\n",
    "        cursor.close()\n",
    "        connection.close()\n",
    "        print(\"Database connection is closed\")"
   ]
  },
  {
   "cell_type": "code",
   "execution_count": 28,
   "metadata": {},
   "outputs": [],
   "source": [
    "df_credit = spark.read.load(\"cdw_sapp_credit.json\", format=\"json\", header = \n",
    "True,inferSchema = True)\n",
    "df_branch=spark.read.load(\"cdw_sapp_branch.json\", format=\"json\", header = \n",
    "True,inferSchema = True)\n",
    "df_customer=spark.read.load(\"cdw_sapp_custmer.json\", format=\"json\", header = \n",
    "True,inferSchema = True)"
   ]
  },
  {
   "cell_type": "code",
   "execution_count": 265,
   "metadata": {},
   "outputs": [],
   "source": [
    "df_credit.write.jdbc(url=\"jdbc:mysql://localhost:3306/creditcard_capstone\"\n",
    "                  \"?user=root&password=2107\",\n",
    "              table=\"CDW_SAPP_CREDIT_CARD\",\n",
    "              mode=\"append\",\n",
    "              properties={\"driver\": 'com.mysql.jdbc.Driver'})"
   ]
  },
  {
   "cell_type": "code",
   "execution_count": null,
   "metadata": {},
   "outputs": [],
   "source": [
    "df_branch.write.jdbc(url=\"jdbc:mysql://localhost:3306/creditcard_capstone\"\n",
    "                  \"?user=root&password=2107\",\n",
    "              table=\"CDW_SAPP_BRANCH\",\n",
    "              mode=\"append\",\n",
    "              properties={\"driver\": 'com.mysql.jdbc.Driver'})"
   ]
  },
  {
   "cell_type": "code",
   "execution_count": null,
   "metadata": {},
   "outputs": [],
   "source": [
    "df_customer.write.jdbc(url=\"jdbc:mysql://localhost:3306/creditcard_capstone\"\n",
    "                  \"?user=root&password=2107\",\n",
    "              table=\"CDW_SAPP_CUSTOMER\",\n",
    "              mode=\"append\",\n",
    "              properties={\"driver\": 'com.mysql.jdbc.Driver'})"
   ]
  },
  {
   "cell_type": "code",
   "execution_count": 5,
   "metadata": {},
   "outputs": [],
   "source": [
    "spark.read.format(\"jdbc\").option(\"url\", \"jdbc:mysql://localhost:3306/creditcard_capstone\"\n",
    "                  \"?user=root&password=2107\").option(\"query\", \"SELECT * FROM cdw_sapp_credit_card\").option(\"driver\", \"com.mysql.jdbc.Driver\").load().createOrReplaceTempView(\"cdw_sapp_credit_card\")\n",
    "spark.read.format(\"jdbc\").option(\"url\", \"jdbc:mysql://localhost:3306/creditcard_capstone\"\n",
    "                  \"?user=root&password=2107\").option(\"query\", \"SELECT * FROM cdw_sapp_customer\").option(\"driver\", \"com.mysql.jdbc.Driver\").load().createOrReplaceTempView(\"cdw_sapp_customer\")\n",
    "spark.read.format(\"jdbc\").option(\"url\", \"jdbc:mysql://localhost:3306/creditcard_capstone\"\n",
    "                  \"?user=root&password=2107\").option(\"query\", \"SELECT * FROM cdw_sapp_branch\").option(\"driver\", \"com.mysql.jdbc.Driver\").load().createOrReplaceTempView(\"cdw_sapp_branch\")"
   ]
  },
  {
   "cell_type": "code",
   "execution_count": 139,
   "metadata": {},
   "outputs": [
    {
     "name": "stderr",
     "output_type": "stream",
     "text": [
      "Exception in Tkinter callback\n",
      "Traceback (most recent call last):\n",
      "  File \"c:\\users\\gabin ntankeu\\appdata\\local\\programs\\python\\python310\\lib\\tkinter\\__init__.py\", line 1921, in __call__\n",
      "    return self.func(*args)\n",
      "  File \"C:\\Users\\gabin ntankeu\\AppData\\Local\\Temp\\ipykernel_24288\\4286589412.py\", line 25, in task1\n",
      "    listbox.insert(END, *x[0])\n",
      "  File \"c:\\users\\gabin ntankeu\\appdata\\local\\programs\\python\\python310\\lib\\site-packages\\pyspark\\sql\\column.py\", line 560, in __iter__\n",
      "    raise TypeError(\"Column is not iterable\")\n",
      "TypeError: Column is not iterable\n",
      "Exception in Tkinter callback\n",
      "Traceback (most recent call last):\n",
      "  File \"c:\\users\\gabin ntankeu\\appdata\\local\\programs\\python\\python310\\lib\\tkinter\\__init__.py\", line 1921, in __call__\n",
      "    return self.func(*args)\n",
      "  File \"C:\\Users\\gabin ntankeu\\AppData\\Local\\Temp\\ipykernel_24288\\4286589412.py\", line 25, in task1\n",
      "    listbox.insert(END, *x[0])\n",
      "  File \"c:\\users\\gabin ntankeu\\appdata\\local\\programs\\python\\python310\\lib\\site-packages\\pyspark\\sql\\column.py\", line 560, in __iter__\n",
      "    raise TypeError(\"Column is not iterable\")\n",
      "TypeError: Column is not iterable\n",
      "Exception in Tkinter callback\n",
      "Traceback (most recent call last):\n",
      "  File \"c:\\users\\gabin ntankeu\\appdata\\local\\programs\\python\\python310\\lib\\tkinter\\__init__.py\", line 1921, in __call__\n",
      "    return self.func(*args)\n",
      "  File \"C:\\Users\\gabin ntankeu\\AppData\\Local\\Temp\\ipykernel_24288\\4286589412.py\", line 25, in task1\n",
      "    listbox.insert(END, *x[0])\n",
      "  File \"c:\\users\\gabin ntankeu\\appdata\\local\\programs\\python\\python310\\lib\\site-packages\\pyspark\\sql\\column.py\", line 560, in __iter__\n",
      "    raise TypeError(\"Column is not iterable\")\n",
      "TypeError: Column is not iterable\n"
     ]
    }
   ],
   "source": [
    "from tkinter import *\n",
    "window = tk.Tk()\n",
    "window.geometry(\"6000x500\")\n",
    "window.resizable(True, True)\n",
    "\n",
    "    \n",
    "#l=tk.Label(window, text=\" \",fg=\"green\")\n",
    "#l.grid(row=8)\n",
    "listbox = Listbox(window, height = 30,\n",
    "\t\t\t\twidth = 25,\n",
    "\t\t\t\tbg = \"grey\",\n",
    "\t\t\t\tactivestyle = 'dotbox',\n",
    "\t\t\t\tfont = \"Helvetica\",\n",
    "\t\t\t\tfg = \"yellow\")\n",
    "listbox.grid(row=8)\n",
    "myscroll = tk.Scrollbar(window, orient='vertical', command=listbox.yview)\n",
    "\n",
    "listbox.config(xscrollcommand=myscroll.set)\n",
    "\n",
    "\n",
    "\n",
    "def task1():\n",
    "    x=spark.sql(\"select TRANSACTION_TYPE FROM cdw_sapp_credit_card WHERE CUST_SSN IN (SELECT SSN FROM cdw_sapp_customer WHERE CUST_ZIP='{}') order by day desc \".format(e1.get()))\n",
    "    x=x.toPandas().values.tolist()\n",
    "    listbox.delete(0,END)\n",
    "    listbox.insert(END, *x[0])\n",
    "   \n",
    "    \n",
    "\n",
    "tk.Label(window, text=\"enter Zip code,month,year to get transactions made by customers\").grid(row=0)\n",
    "e1=tk.Entry(window)\n",
    "e1.grid(row=0, column=1)\n",
    "tk.Button(window, text=\"submit\",command=task1).grid(row=0, column=3)\n",
    "\n",
    "def task2():\n",
    "    x=spark.sql(\"SELECT COUNT(*) AS TOTAL FROM cdw_sapp_credit_card WHERE TRANSACTION_TYPE='{}'\".format(e2.get()))\n",
    "    x=x.toPandas().values.tolist()\n",
    "    listbox.delete(0,END)\n",
    "    listbox.insert(END, *x[0])\n",
    "  \n",
    "\n",
    "tk.Label(window,text=\"Enter type to display the number and total values of transactions\").grid(row=2)\n",
    "e2=tk.Entry(window)\n",
    "e2.grid(row=2, column=1)\n",
    "tk.Button(window, text=\"submit\",command=task2).grid(row=2, column=3)\n",
    "\n",
    "def task3():\n",
    "    x=spark.sql(\"SELECT COUNT(*)  FROM cdw_sapp_credit_card WHERE BRANCH_CODE IN (select BRANCH_CODE FROM cdw_sapp_branch WHERE BRANCH_STATE ='{}')\".format(e3.get()))\n",
    "    x=x.toPandas().values.tolist()\n",
    "    listbox.delete(0,END)\n",
    "    listbox.insert(END, *x[0])\n",
    "   \n",
    "\n",
    "tk.Label(window,text=\"Enter State  to display the number and total values of transactions\").grid(row=3)\n",
    "e3=tk.Entry(window)\n",
    "e3.grid(row=3, column=1)\n",
    "tk.Button(window, text=\"submit\",command=task3).grid(row=3, column=3)\n",
    "\n",
    "def task4():\n",
    "    x=spark.sql(\"SELECT * FROM cdw_sapp_customer WHERE SSN='{}'\".format(e4.get()))\n",
    "    x=x.toPandas().values.tolist()\n",
    "    listbox.delete(0,END)\n",
    "    listbox.insert(END, *x[0])\n",
    "tk.Label(window, text=\"Enter SSN to check the existing account details of a customer\").grid(row=4)\n",
    "e4=tk.Entry(window)\n",
    "e4.grid(row=4, column=1)\n",
    "tk.Button(window, text=\"submit\",command=task4).grid(row=4, column=3)\n",
    "\n",
    "def task5():\n",
    "    #####\n",
    "    x=x.toPandas().applymap(str)\n",
    "    \n",
    "    listbox.insert(END, *x)\n",
    "\n",
    "tk.Label(window).grid(row=5)\n",
    "e5=tk.Entry(window)\n",
    "e5.grid(row=5, column=1)\n",
    "tk.Button(window, text=\"submit\",command=task5).grid(row=5, column=3)\n",
    "\n",
    "\n",
    "def task6():\n",
    "    x=bill=spark.sql(\" SELECT CREDIT_CARD_NO, SUM(TRANSACTION_VALUE) AS bill FROM cdw_sapp_credit_card WHERE MONTH ='{}' AND YEAR='{}' GROUP BY CREDIT_CARD_NO\".format(e6.get(),e61.get()))\n",
    "    x=x.toPandas().values.tolist()\n",
    "    listbox.delete(0,END)\n",
    "    listbox.insert(END, *x[0])\n",
    "    \n",
    "\n",
    "tk.Label(window, text=\"enter month and year to to generate a monthly bill for a credit card number\").grid(row=6)\n",
    "e6=tk.Entry(window)\n",
    "e6.grid(row=6, column=1)\n",
    "e61=tk.Entry(window)\n",
    "e61.grid(row=6, column=2)\n",
    "tk.Button(window, text=\"submit\",command=task6).grid(row=6, column=3)\n",
    "\n",
    "def task7():\n",
    "    x=spark.sql(\"SELECT TRANSACTION_TYPE FROM cdw_sapp_credit_card WHERE (DAY BETWEEN '{}' AND '{}') AND (MONTH BETWEEN '{}' AND '{}')\".format(e7.get(),e71.get(),e72.get(),e73.get()))\n",
    "    x=x.toPandas().values.tolist()\n",
    "    listbox.delete(0,END)\n",
    "    listbox.insert(END, *x[0])\n",
    "   \n",
    "   \n",
    "tk.Label(window, text=\"Enter start day end day, then same for month to display the transactions made by a customer between two dates\").grid(row=7)\n",
    "e7=tk.Entry(window,width=10)\n",
    "e7.grid(row=7, column=1)\n",
    "e71=tk.Entry(window,width=10)\n",
    "e71.grid(row=7, column=2)\n",
    "e72=tk.Entry(window,width=10)\n",
    "e72.grid(row=7, column=3)\n",
    "e73=tk.Entry(window,width=10)\n",
    "e73.grid(row=7, column=4)\n",
    "\n",
    "tk.Button(window, text=\"submit\",command=task7).grid(row=7, column=5)\n",
    "\n",
    "window.mainloop()"
   ]
  },
  {
   "cell_type": "code",
   "execution_count": 88,
   "metadata": {},
   "outputs": [
    {
     "data": {
      "text/plain": [
       "Text(0, 0.5, 'Total TRANSACTION')"
      ]
     },
     "execution_count": 88,
     "metadata": {},
     "output_type": "execute_result"
    },
    {
     "data": {
      "image/png": "[encoded data removed]",
      "text/plain": [
       "<Figure size 1600x800 with 1 Axes>"
      ]
     },
     "metadata": {
      "needs_background": "light"
     },
     "output_type": "display_data"
    }
   ],
   "source": [
    "\n",
    "data=spark.sql(\"SELECT TRANSACTION_TYPE AS trans,count(TRANSACTION_TYPE) as total FROM cdw_sapp_credit_card group by TRANSACTION_TYPE\")\n",
    "data=data.toPandas()\n",
    "figure(figsize = (20, 10), dpi = 80)\n",
    "plt.bar(data[\"trans\"],data[\"total\"])\n",
    "#plt.yticks(data[\"total\"])\n",
    "plt.xlabel('TRANSACTION_TYPE')\n",
    "plt.ylabel('Total TRANSACTION')"
   ]
  },
  {
   "cell_type": "code",
   "execution_count": 89,
   "metadata": {},
   "outputs": [
    {
     "data": {
      "text/plain": [
       "Text(0, 0.5, 'Total')"
      ]
     },
     "execution_count": 89,
     "metadata": {},
     "output_type": "execute_result"
    },
    {
     "data": {
      "image/png": "[encoded data removed]",
      "text/plain": [
       "<Figure size 1600x800 with 1 Axes>"
      ]
     },
     "metadata": {
      "needs_background": "light"
     },
     "output_type": "display_data"
    }
   ],
   "source": [
    "data=spark.sql(\"SELECT CUST_STATE as state,count(CUST_STATE) as total FROM cdw_sapp_customer group by CUST_STATE \")\n",
    "data=data.toPandas()\n",
    "\n",
    "figure(figsize = (20, 10), dpi = 80)\n",
    "plt.bar(data[\"state\"],data[\"total\"])\n",
    "\n",
    "plt.xlabel('CUST_STATE')\n",
    "plt.ylabel('Total')"
   ]
  },
  {
   "cell_type": "code",
   "execution_count": 69,
   "metadata": {},
   "outputs": [
    {
     "ename": "AnalysisException",
     "evalue": "Column 'TRANSACTION_VALUE' does not exist. Did you mean one of the following? [ssn, total]; line 1 pos 108;\n'GlobalLimit 20\n+- 'LocalLimit 20\n   +- 'Sort ['TRANSACTION_VALUE ASC NULLS FIRST], true\n      +- Aggregate [CUST_SSN#67L], [CUST_SSN#67L AS ssn#599L, sum(TRANSACTION_VALUE#72) AS total#600]\n         +- SubqueryAlias cdw_sapp_credit_card\n            +- View (`cdw_sapp_credit_card`, [BRANCH_CODE#65L,CREDIT_CARD_NO#66,CUST_SSN#67L,DAY#68L,MONTH#69L,TRANSACTION_ID#70L,TRANSACTION_TYPE#71,TRANSACTION_VALUE#72,YEAR#73L])\n               +- Relation [BRANCH_CODE#65L,CREDIT_CARD_NO#66,CUST_SSN#67L,DAY#68L,MONTH#69L,TRANSACTION_ID#70L,TRANSACTION_TYPE#71,TRANSACTION_VALUE#72,YEAR#73L] JDBCRelation((SELECT * FROM cdw_sapp_credit_card) SPARK_GEN_SUBQ_8) [numPartitions=1]\n",
     "output_type": "error",
     "traceback": [
      "\u001b[1;31m---------------------------------------------------------------------------\u001b[0m",
      "\u001b[1;31mAnalysisException\u001b[0m                         Traceback (most recent call last)",
      "\u001b[1;32mc:\\Users\\gabin ntankeu\\Downloads\\final\\Untitled-1.ipynb Cell 11\u001b[0m in \u001b[0;36m<cell line: 1>\u001b[1;34m()\u001b[0m\n\u001b[1;32m----> <a href='vscode-notebook-cell:/c%3A/Users/gabin%20ntankeu/Downloads/final/Untitled-1.ipynb#X13sZmlsZQ%3D%3D?line=0'>1</a>\u001b[0m data\u001b[39m=\u001b[39mspark\u001b[39m.\u001b[39;49msql(\u001b[39m\"\u001b[39;49m\u001b[39mSELECT CUST_SSN AS ssn,sum(TRANSACTION_VALUE) AS total FROM cdw_sapp_credit_card GROUP by CUST_SSN ORDER BY TRANSACTION_VALUE ASC LIMIT 20\u001b[39;49m\u001b[39m\"\u001b[39;49m)\n\u001b[0;32m      <a href='vscode-notebook-cell:/c%3A/Users/gabin%20ntankeu/Downloads/final/Untitled-1.ipynb#X13sZmlsZQ%3D%3D?line=1'>2</a>\u001b[0m data\u001b[39m=\u001b[39mdata\u001b[39m.\u001b[39mtoPandas()\n\u001b[0;32m      <a href='vscode-notebook-cell:/c%3A/Users/gabin%20ntankeu/Downloads/final/Untitled-1.ipynb#X13sZmlsZQ%3D%3D?line=4'>5</a>\u001b[0m figure(figsize \u001b[39m=\u001b[39m (\u001b[39m20\u001b[39m, \u001b[39m10\u001b[39m), dpi \u001b[39m=\u001b[39m \u001b[39m80\u001b[39m)\n",
      "File \u001b[1;32mc:\\users\\gabin ntankeu\\appdata\\local\\programs\\python\\python310\\lib\\site-packages\\pyspark\\sql\\session.py:1034\u001b[0m, in \u001b[0;36mSparkSession.sql\u001b[1;34m(self, sqlQuery, **kwargs)\u001b[0m\n\u001b[0;32m   1032\u001b[0m     sqlQuery \u001b[39m=\u001b[39m formatter\u001b[39m.\u001b[39mformat(sqlQuery, \u001b[39m*\u001b[39m\u001b[39m*\u001b[39mkwargs)\n\u001b[0;32m   1033\u001b[0m \u001b[39mtry\u001b[39;00m:\n\u001b[1;32m-> 1034\u001b[0m     \u001b[39mreturn\u001b[39;00m DataFrame(\u001b[39mself\u001b[39;49m\u001b[39m.\u001b[39;49m_jsparkSession\u001b[39m.\u001b[39;49msql(sqlQuery), \u001b[39mself\u001b[39m)\n\u001b[0;32m   1035\u001b[0m \u001b[39mfinally\u001b[39;00m:\n\u001b[0;32m   1036\u001b[0m     \u001b[39mif\u001b[39;00m \u001b[39mlen\u001b[39m(kwargs) \u001b[39m>\u001b[39m \u001b[39m0\u001b[39m:\n",
      "File \u001b[1;32mc:\\users\\gabin ntankeu\\appdata\\local\\programs\\python\\python310\\lib\\site-packages\\py4j\\java_gateway.py:1321\u001b[0m, in \u001b[0;36mJavaMember.__call__\u001b[1;34m(self, *args)\u001b[0m\n\u001b[0;32m   1315\u001b[0m command \u001b[39m=\u001b[39m proto\u001b[39m.\u001b[39mCALL_COMMAND_NAME \u001b[39m+\u001b[39m\\\n\u001b[0;32m   1316\u001b[0m     \u001b[39mself\u001b[39m\u001b[39m.\u001b[39mcommand_header \u001b[39m+\u001b[39m\\\n\u001b[0;32m   1317\u001b[0m     args_command \u001b[39m+\u001b[39m\\\n\u001b[0;32m   1318\u001b[0m     proto\u001b[39m.\u001b[39mEND_COMMAND_PART\n\u001b[0;32m   1320\u001b[0m answer \u001b[39m=\u001b[39m \u001b[39mself\u001b[39m\u001b[39m.\u001b[39mgateway_client\u001b[39m.\u001b[39msend_command(command)\n\u001b[1;32m-> 1321\u001b[0m return_value \u001b[39m=\u001b[39m get_return_value(\n\u001b[0;32m   1322\u001b[0m     answer, \u001b[39mself\u001b[39;49m\u001b[39m.\u001b[39;49mgateway_client, \u001b[39mself\u001b[39;49m\u001b[39m.\u001b[39;49mtarget_id, \u001b[39mself\u001b[39;49m\u001b[39m.\u001b[39;49mname)\n\u001b[0;32m   1324\u001b[0m \u001b[39mfor\u001b[39;00m temp_arg \u001b[39min\u001b[39;00m temp_args:\n\u001b[0;32m   1325\u001b[0m     temp_arg\u001b[39m.\u001b[39m_detach()\n",
      "File \u001b[1;32mc:\\users\\gabin ntankeu\\appdata\\local\\programs\\python\\python310\\lib\\site-packages\\pyspark\\sql\\utils.py:196\u001b[0m, in \u001b[0;36mcapture_sql_exception.<locals>.deco\u001b[1;34m(*a, **kw)\u001b[0m\n\u001b[0;32m    192\u001b[0m converted \u001b[39m=\u001b[39m convert_exception(e\u001b[39m.\u001b[39mjava_exception)\n\u001b[0;32m    193\u001b[0m \u001b[39mif\u001b[39;00m \u001b[39mnot\u001b[39;00m \u001b[39misinstance\u001b[39m(converted, UnknownException):\n\u001b[0;32m    194\u001b[0m     \u001b[39m# Hide where the exception came from that shows a non-Pythonic\u001b[39;00m\n\u001b[0;32m    195\u001b[0m     \u001b[39m# JVM exception message.\u001b[39;00m\n\u001b[1;32m--> 196\u001b[0m     \u001b[39mraise\u001b[39;00m converted \u001b[39mfrom\u001b[39;00m \u001b[39mNone\u001b[39m\n\u001b[0;32m    197\u001b[0m \u001b[39melse\u001b[39;00m:\n\u001b[0;32m    198\u001b[0m     \u001b[39mraise\u001b[39;00m\n",
      "\u001b[1;31mAnalysisException\u001b[0m: Column 'TRANSACTION_VALUE' does not exist. Did you mean one of the following? [ssn, total]; line 1 pos 108;\n'GlobalLimit 20\n+- 'LocalLimit 20\n   +- 'Sort ['TRANSACTION_VALUE ASC NULLS FIRST], true\n      +- Aggregate [CUST_SSN#67L], [CUST_SSN#67L AS ssn#599L, sum(TRANSACTION_VALUE#72) AS total#600]\n         +- SubqueryAlias cdw_sapp_credit_card\n            +- View (`cdw_sapp_credit_card`, [BRANCH_CODE#65L,CREDIT_CARD_NO#66,CUST_SSN#67L,DAY#68L,MONTH#69L,TRANSACTION_ID#70L,TRANSACTION_TYPE#71,TRANSACTION_VALUE#72,YEAR#73L])\n               +- Relation [BRANCH_CODE#65L,CREDIT_CARD_NO#66,CUST_SSN#67L,DAY#68L,MONTH#69L,TRANSACTION_ID#70L,TRANSACTION_TYPE#71,TRANSACTION_VALUE#72,YEAR#73L] JDBCRelation((SELECT * FROM cdw_sapp_credit_card) SPARK_GEN_SUBQ_8) [numPartitions=1]\n"
     ]
    }
   ],
   "source": [
    "data=spark.sql(\"SELECT CUST_SSN AS ssn,sum(TRANSACTION_VALUE) AS total FROM cdw_sapp_credit_card GROUP by CUST_SSN ORDER BY TRANSACTION_VALUE ASC LIMIT 20\")\n",
    "data=data.toPandas()\n",
    "\n",
    "\n",
    "figure(figsize = (20, 10), dpi = 80)\n",
    "\n",
    "plt.bar(data[\"ssn\"],data[\"total\"])\n",
    "\n",
    "\n"
   ]
  },
  {
   "cell_type": "code",
   "execution_count": 90,
   "metadata": {},
   "outputs": [
    {
     "data": {
      "text/plain": [
       "Text(0, 0.5, 'Total')"
      ]
     },
     "execution_count": 90,
     "metadata": {},
     "output_type": "execute_result"
    },
    {
     "data": {
      "image/png": "[encoded data removed]",
      "text/plain": [
       "<Figure size 1600x800 with 1 Axes>"
      ]
     },
     "metadata": {
      "needs_background": "light"
     },
     "output_type": "display_data"
    }
   ],
   "source": [
    "data=spark.sql(\"select month as months, COUNT(TRANSACTION_ID) as total  from cdw_sapp_credit_card group by month order by total desc limit 3\")\n",
    "data=data.toPandas()\n",
    "\n",
    "figure(figsize = (20,10 ), dpi = 80)\n",
    "plt.bar(data[\"months\"],data[\"total\"])\n",
    "plt.xticks(data[\"months\"])\n",
    "#plt.yticks(data[\"total\"])\n",
    "\n",
    "plt.xlabel('MONTHS')\n",
    "plt.ylabel('Total')\n",
    "\n"
   ]
  },
  {
   "cell_type": "code",
   "execution_count": 92,
   "metadata": {},
   "outputs": [
    {
     "data": {
      "text/plain": [
       "Text(0, 0.5, 'TRANSACTION_VALUE')"
      ]
     },
     "execution_count": 92,
     "metadata": {},
     "output_type": "execute_result"
    },
    {
     "data": {
      "image/png": "[encoded data removed]",
      "text/plain": [
       "<Figure size 1600x800 with 1 Axes>"
      ]
     },
     "metadata": {
      "needs_background": "light"
     },
     "output_type": "display_data"
    }
   ],
   "source": [
    "data=spark.sql(\"SELECT BRANCH_CODE AS branch,sum(TRANSACTION_VALUE) as total FROM cdw_sapp_credit_card WHERE TRANSACTION_TYPE ='Healthcare' group BY BRANCH_CODE order by total desc\")\n",
    "data=data.toPandas().head(20)\n",
    "\n",
    "figure(figsize = (20, 10), dpi = 80)\n",
    "\n",
    "plt.bar(data[\"branch\"],data[\"total\"])\n",
    "\n",
    "plt.xticks(data[\"branch\"])\n",
    "#plt.yticks(yi,y)\n",
    "\n",
    "plt.xlabel('BRANCH_CODE')\n",
    "plt.ylabel('TRANSACTION_VALUE')"
   ]
  },
  {
   "cell_type": "code",
   "execution_count": 2,
   "metadata": {},
   "outputs": [
    {
     "name": "stdout",
     "output_type": "stream",
     "text": [
      "200\n"
     ]
    }
   ],
   "source": [
    "import requests\n",
    "x=requests.get(\"https://raw.githubusercontent.com/platformps/LoanDataset/main/loan_data.json\")\n",
    "print(x.status_code)\n",
    "x=x.json()\n",
    "data=spark.createDataFrame(x)\n",
    "\n",
    "data.write.jdbc(url=\"jdbc:mysql://localhost:3306/creditcard_capstone\"\n",
    "                  \"?user=root&password=2107\",\n",
    "              table=\"cdw_sapp_loan_application\",\n",
    "              mode=\"append\",\n",
    "              properties={\"driver\": 'com.mysql.jdbc.Driver'})\n",
    "spark.read.format(\"jdbc\").option(\"url\", \"jdbc:mysql://localhost:3306/creditcard_capstone\"\n",
    "                  \"?user=root&password=2107\").option(\"query\", \"SELECT * FROM cdw_sapp_loan_application\").option(\"driver\", \"com.mysql.jdbc.Driver\").load().createOrReplaceTempView(\"cdw_sapp_loan_application\")"
   ]
  },
  {
   "cell_type": "code",
   "execution_count": 78,
   "metadata": {},
   "outputs": [
    {
     "ename": "AnalysisException",
     "evalue": "expression 'cdw_sapp_loan_application.Application_Status' is neither present in the group by, nor is it an aggregate function. Add to group by or wrap in first() (or first_value) if you don't care which value you get.;\nAggregate [GENDER#46, INCOME#47], [concat(gender#46,  ( , Application_Status#42,  )) AS gndr#674, count(GENDER#46) AS total#675L]\n+- Filter (MARRIED#48 = Yes)\n   +- SubqueryAlias cdw_sapp_loan_application\n      +- View (`cdw_sapp_loan_application`, [Application_ID#41,Application_Status#42,Credit_History#43L,Dependents#44,Education#45,Gender#46,Income#47,Married#48,Property_Area#49,Self_Employed#50])\n         +- Relation [Application_ID#41,Application_Status#42,Credit_History#43L,Dependents#44,Education#45,Gender#46,Income#47,Married#48,Property_Area#49,Self_Employed#50] JDBCRelation((SELECT * FROM cdw_sapp_loan_application) SPARK_GEN_SUBQ_0) [numPartitions=1]\n",
     "output_type": "error",
     "traceback": [
      "\u001b[1;31m---------------------------------------------------------------------------\u001b[0m",
      "\u001b[1;31mAnalysisException\u001b[0m                         Traceback (most recent call last)",
      "\u001b[1;32mc:\\Users\\gabin ntankeu\\Downloads\\final\\Untitled-1.ipynb Cell 15\u001b[0m in \u001b[0;36m<cell line: 1>\u001b[1;34m()\u001b[0m\n\u001b[1;32m----> <a href='vscode-notebook-cell:/c%3A/Users/gabin%20ntankeu/Downloads/final/Untitled-1.ipynb#X20sZmlsZQ%3D%3D?line=0'>1</a>\u001b[0m data\u001b[39m=\u001b[39mspark\u001b[39m.\u001b[39;49msql(\u001b[39m\"\u001b[39;49m\u001b[39mSELECT concat(gender,\u001b[39;49m\u001b[39m'\u001b[39;49m\u001b[39m ( \u001b[39;49m\u001b[39m'\u001b[39;49m\u001b[39m, Application_Status,\u001b[39;49m\u001b[39m'\u001b[39;49m\u001b[39m )\u001b[39;49m\u001b[39m'\u001b[39;49m\u001b[39m)as gndr,COUNT(GENDER) AS total FROM cdw_sapp_loan_application where MARRIED=\u001b[39;49m\u001b[39m'\u001b[39;49m\u001b[39mYes\u001b[39;49m\u001b[39m'\u001b[39;49m\u001b[39m GROUP BY GENDER, INCOME\u001b[39;49m\u001b[39m\"\u001b[39;49m)\n\u001b[0;32m      <a href='vscode-notebook-cell:/c%3A/Users/gabin%20ntankeu/Downloads/final/Untitled-1.ipynb#X20sZmlsZQ%3D%3D?line=1'>2</a>\u001b[0m x\u001b[39m=\u001b[39mdata\u001b[39m.\u001b[39mtoPandas()[\u001b[39m\"\u001b[39m\u001b[39mgndr\u001b[39m\u001b[39m\"\u001b[39m]\u001b[39m.\u001b[39mtolist()\n\u001b[0;32m      <a href='vscode-notebook-cell:/c%3A/Users/gabin%20ntankeu/Downloads/final/Untitled-1.ipynb#X20sZmlsZQ%3D%3D?line=2'>3</a>\u001b[0m y\u001b[39m=\u001b[39mdata\u001b[39m.\u001b[39mtoPandas()[\u001b[39m\"\u001b[39m\u001b[39mtotal\u001b[39m\u001b[39m\"\u001b[39m]\u001b[39m.\u001b[39mtolist()\n",
      "File \u001b[1;32mc:\\users\\gabin ntankeu\\appdata\\local\\programs\\python\\python310\\lib\\site-packages\\pyspark\\sql\\session.py:1034\u001b[0m, in \u001b[0;36mSparkSession.sql\u001b[1;34m(self, sqlQuery, **kwargs)\u001b[0m\n\u001b[0;32m   1032\u001b[0m     sqlQuery \u001b[39m=\u001b[39m formatter\u001b[39m.\u001b[39mformat(sqlQuery, \u001b[39m*\u001b[39m\u001b[39m*\u001b[39mkwargs)\n\u001b[0;32m   1033\u001b[0m \u001b[39mtry\u001b[39;00m:\n\u001b[1;32m-> 1034\u001b[0m     \u001b[39mreturn\u001b[39;00m DataFrame(\u001b[39mself\u001b[39;49m\u001b[39m.\u001b[39;49m_jsparkSession\u001b[39m.\u001b[39;49msql(sqlQuery), \u001b[39mself\u001b[39m)\n\u001b[0;32m   1035\u001b[0m \u001b[39mfinally\u001b[39;00m:\n\u001b[0;32m   1036\u001b[0m     \u001b[39mif\u001b[39;00m \u001b[39mlen\u001b[39m(kwargs) \u001b[39m>\u001b[39m \u001b[39m0\u001b[39m:\n",
      "File \u001b[1;32mc:\\users\\gabin ntankeu\\appdata\\local\\programs\\python\\python310\\lib\\site-packages\\py4j\\java_gateway.py:1321\u001b[0m, in \u001b[0;36mJavaMember.__call__\u001b[1;34m(self, *args)\u001b[0m\n\u001b[0;32m   1315\u001b[0m command \u001b[39m=\u001b[39m proto\u001b[39m.\u001b[39mCALL_COMMAND_NAME \u001b[39m+\u001b[39m\\\n\u001b[0;32m   1316\u001b[0m     \u001b[39mself\u001b[39m\u001b[39m.\u001b[39mcommand_header \u001b[39m+\u001b[39m\\\n\u001b[0;32m   1317\u001b[0m     args_command \u001b[39m+\u001b[39m\\\n\u001b[0;32m   1318\u001b[0m     proto\u001b[39m.\u001b[39mEND_COMMAND_PART\n\u001b[0;32m   1320\u001b[0m answer \u001b[39m=\u001b[39m \u001b[39mself\u001b[39m\u001b[39m.\u001b[39mgateway_client\u001b[39m.\u001b[39msend_command(command)\n\u001b[1;32m-> 1321\u001b[0m return_value \u001b[39m=\u001b[39m get_return_value(\n\u001b[0;32m   1322\u001b[0m     answer, \u001b[39mself\u001b[39;49m\u001b[39m.\u001b[39;49mgateway_client, \u001b[39mself\u001b[39;49m\u001b[39m.\u001b[39;49mtarget_id, \u001b[39mself\u001b[39;49m\u001b[39m.\u001b[39;49mname)\n\u001b[0;32m   1324\u001b[0m \u001b[39mfor\u001b[39;00m temp_arg \u001b[39min\u001b[39;00m temp_args:\n\u001b[0;32m   1325\u001b[0m     temp_arg\u001b[39m.\u001b[39m_detach()\n",
      "File \u001b[1;32mc:\\users\\gabin ntankeu\\appdata\\local\\programs\\python\\python310\\lib\\site-packages\\pyspark\\sql\\utils.py:196\u001b[0m, in \u001b[0;36mcapture_sql_exception.<locals>.deco\u001b[1;34m(*a, **kw)\u001b[0m\n\u001b[0;32m    192\u001b[0m converted \u001b[39m=\u001b[39m convert_exception(e\u001b[39m.\u001b[39mjava_exception)\n\u001b[0;32m    193\u001b[0m \u001b[39mif\u001b[39;00m \u001b[39mnot\u001b[39;00m \u001b[39misinstance\u001b[39m(converted, UnknownException):\n\u001b[0;32m    194\u001b[0m     \u001b[39m# Hide where the exception came from that shows a non-Pythonic\u001b[39;00m\n\u001b[0;32m    195\u001b[0m     \u001b[39m# JVM exception message.\u001b[39;00m\n\u001b[1;32m--> 196\u001b[0m     \u001b[39mraise\u001b[39;00m converted \u001b[39mfrom\u001b[39;00m \u001b[39mNone\u001b[39m\n\u001b[0;32m    197\u001b[0m \u001b[39melse\u001b[39;00m:\n\u001b[0;32m    198\u001b[0m     \u001b[39mraise\u001b[39;00m\n",
      "\u001b[1;31mAnalysisException\u001b[0m: expression 'cdw_sapp_loan_application.Application_Status' is neither present in the group by, nor is it an aggregate function. Add to group by or wrap in first() (or first_value) if you don't care which value you get.;\nAggregate [GENDER#46, INCOME#47], [concat(gender#46,  ( , Application_Status#42,  )) AS gndr#674, count(GENDER#46) AS total#675L]\n+- Filter (MARRIED#48 = Yes)\n   +- SubqueryAlias cdw_sapp_loan_application\n      +- View (`cdw_sapp_loan_application`, [Application_ID#41,Application_Status#42,Credit_History#43L,Dependents#44,Education#45,Gender#46,Income#47,Married#48,Property_Area#49,Self_Employed#50])\n         +- Relation [Application_ID#41,Application_Status#42,Credit_History#43L,Dependents#44,Education#45,Gender#46,Income#47,Married#48,Property_Area#49,Self_Employed#50] JDBCRelation((SELECT * FROM cdw_sapp_loan_application) SPARK_GEN_SUBQ_0) [numPartitions=1]\n"
     ]
    }
   ],
   "source": [
    "data=spark.sql(\"SELECT concat(gender,' ( ', Application_Status,' )')as gndr,COUNT(GENDER) AS total FROM cdw_sapp_loan_application where MARRIED='Yes' GROUP BY GENDER, INCOME\")\n",
    "data=data.toPandas()\n",
    "\n",
    "\n",
    "figure(figsize = (20, 10), dpi = 80)\n",
    "\n",
    "plt.bar(data[\"gndr\"],data[\"total\"])\n",
    "\n",
    "plt.grid(linestyle = '--')"
   ]
  },
  {
   "cell_type": "code",
   "execution_count": 87,
   "metadata": {},
   "outputs": [
    {
     "ename": "AnalysisException",
     "evalue": "grouping expressions sequence is empty, and 'cdw_sapp_loan_application.gender' is not an aggregate function. Wrap '(count(cdw_sapp_loan_application.gender) AS `count(gender)`)' in windowing function(s) or wrap 'cdw_sapp_loan_application.gender' in first() (or first_value) if you don't care which value you get.;\nAggregate [count(gender#46) AS count(gender)#727L, concat(gender#46,  ( , Application_Status#42,  )) AS gende#725]\n+- SubqueryAlias cdw_sapp_loan_application\n   +- View (`cdw_sapp_loan_application`, [Application_ID#41,Application_Status#42,Credit_History#43L,Dependents#44,Education#45,Gender#46,Income#47,Married#48,Property_Area#49,Self_Employed#50])\n      +- Relation [Application_ID#41,Application_Status#42,Credit_History#43L,Dependents#44,Education#45,Gender#46,Income#47,Married#48,Property_Area#49,Self_Employed#50] JDBCRelation((SELECT * FROM cdw_sapp_loan_application) SPARK_GEN_SUBQ_0) [numPartitions=1]\n",
     "output_type": "error",
     "traceback": [
      "\u001b[1;31m---------------------------------------------------------------------------\u001b[0m",
      "\u001b[1;31mAnalysisException\u001b[0m                         Traceback (most recent call last)",
      "\u001b[1;32mc:\\Users\\gabin ntankeu\\Downloads\\final\\Untitled-1.ipynb Cell 16\u001b[0m in \u001b[0;36m<cell line: 1>\u001b[1;34m()\u001b[0m\n\u001b[1;32m----> <a href='vscode-notebook-cell:/c%3A/Users/gabin%20ntankeu/Downloads/final/Untitled-1.ipynb#X21sZmlsZQ%3D%3D?line=0'>1</a>\u001b[0m data\u001b[39m=\u001b[39mspark\u001b[39m.\u001b[39;49msql(\u001b[39m\"\u001b[39;49m\u001b[39mselect count(gender), concat(gender,\u001b[39;49m\u001b[39m'\u001b[39;49m\u001b[39m ( \u001b[39;49m\u001b[39m'\u001b[39;49m\u001b[39m, Application_Status,\u001b[39;49m\u001b[39m'\u001b[39;49m\u001b[39m )\u001b[39;49m\u001b[39m'\u001b[39;49m\u001b[39m) as gende FROM cdw_sapp_loan_application \u001b[39;49m\u001b[39m\"\u001b[39;49m)\n\u001b[0;32m      <a href='vscode-notebook-cell:/c%3A/Users/gabin%20ntankeu/Downloads/final/Untitled-1.ipynb#X21sZmlsZQ%3D%3D?line=1'>2</a>\u001b[0m data\u001b[39m=\u001b[39mdata\u001b[39m.\u001b[39mtoPandas()\n\u001b[0;32m      <a href='vscode-notebook-cell:/c%3A/Users/gabin%20ntankeu/Downloads/final/Untitled-1.ipynb#X21sZmlsZQ%3D%3D?line=3'>4</a>\u001b[0m figure(figsize \u001b[39m=\u001b[39m (\u001b[39m20\u001b[39m, \u001b[39m6\u001b[39m), dpi \u001b[39m=\u001b[39m \u001b[39m80\u001b[39m)\n",
      "File \u001b[1;32mc:\\users\\gabin ntankeu\\appdata\\local\\programs\\python\\python310\\lib\\site-packages\\pyspark\\sql\\session.py:1034\u001b[0m, in \u001b[0;36mSparkSession.sql\u001b[1;34m(self, sqlQuery, **kwargs)\u001b[0m\n\u001b[0;32m   1032\u001b[0m     sqlQuery \u001b[39m=\u001b[39m formatter\u001b[39m.\u001b[39mformat(sqlQuery, \u001b[39m*\u001b[39m\u001b[39m*\u001b[39mkwargs)\n\u001b[0;32m   1033\u001b[0m \u001b[39mtry\u001b[39;00m:\n\u001b[1;32m-> 1034\u001b[0m     \u001b[39mreturn\u001b[39;00m DataFrame(\u001b[39mself\u001b[39;49m\u001b[39m.\u001b[39;49m_jsparkSession\u001b[39m.\u001b[39;49msql(sqlQuery), \u001b[39mself\u001b[39m)\n\u001b[0;32m   1035\u001b[0m \u001b[39mfinally\u001b[39;00m:\n\u001b[0;32m   1036\u001b[0m     \u001b[39mif\u001b[39;00m \u001b[39mlen\u001b[39m(kwargs) \u001b[39m>\u001b[39m \u001b[39m0\u001b[39m:\n",
      "File \u001b[1;32mc:\\users\\gabin ntankeu\\appdata\\local\\programs\\python\\python310\\lib\\site-packages\\py4j\\java_gateway.py:1321\u001b[0m, in \u001b[0;36mJavaMember.__call__\u001b[1;34m(self, *args)\u001b[0m\n\u001b[0;32m   1315\u001b[0m command \u001b[39m=\u001b[39m proto\u001b[39m.\u001b[39mCALL_COMMAND_NAME \u001b[39m+\u001b[39m\\\n\u001b[0;32m   1316\u001b[0m     \u001b[39mself\u001b[39m\u001b[39m.\u001b[39mcommand_header \u001b[39m+\u001b[39m\\\n\u001b[0;32m   1317\u001b[0m     args_command \u001b[39m+\u001b[39m\\\n\u001b[0;32m   1318\u001b[0m     proto\u001b[39m.\u001b[39mEND_COMMAND_PART\n\u001b[0;32m   1320\u001b[0m answer \u001b[39m=\u001b[39m \u001b[39mself\u001b[39m\u001b[39m.\u001b[39mgateway_client\u001b[39m.\u001b[39msend_command(command)\n\u001b[1;32m-> 1321\u001b[0m return_value \u001b[39m=\u001b[39m get_return_value(\n\u001b[0;32m   1322\u001b[0m     answer, \u001b[39mself\u001b[39;49m\u001b[39m.\u001b[39;49mgateway_client, \u001b[39mself\u001b[39;49m\u001b[39m.\u001b[39;49mtarget_id, \u001b[39mself\u001b[39;49m\u001b[39m.\u001b[39;49mname)\n\u001b[0;32m   1324\u001b[0m \u001b[39mfor\u001b[39;00m temp_arg \u001b[39min\u001b[39;00m temp_args:\n\u001b[0;32m   1325\u001b[0m     temp_arg\u001b[39m.\u001b[39m_detach()\n",
      "File \u001b[1;32mc:\\users\\gabin ntankeu\\appdata\\local\\programs\\python\\python310\\lib\\site-packages\\pyspark\\sql\\utils.py:196\u001b[0m, in \u001b[0;36mcapture_sql_exception.<locals>.deco\u001b[1;34m(*a, **kw)\u001b[0m\n\u001b[0;32m    192\u001b[0m converted \u001b[39m=\u001b[39m convert_exception(e\u001b[39m.\u001b[39mjava_exception)\n\u001b[0;32m    193\u001b[0m \u001b[39mif\u001b[39;00m \u001b[39mnot\u001b[39;00m \u001b[39misinstance\u001b[39m(converted, UnknownException):\n\u001b[0;32m    194\u001b[0m     \u001b[39m# Hide where the exception came from that shows a non-Pythonic\u001b[39;00m\n\u001b[0;32m    195\u001b[0m     \u001b[39m# JVM exception message.\u001b[39;00m\n\u001b[1;32m--> 196\u001b[0m     \u001b[39mraise\u001b[39;00m converted \u001b[39mfrom\u001b[39;00m \u001b[39mNone\u001b[39m\n\u001b[0;32m    197\u001b[0m \u001b[39melse\u001b[39;00m:\n\u001b[0;32m    198\u001b[0m     \u001b[39mraise\u001b[39;00m\n",
      "\u001b[1;31mAnalysisException\u001b[0m: grouping expressions sequence is empty, and 'cdw_sapp_loan_application.gender' is not an aggregate function. Wrap '(count(cdw_sapp_loan_application.gender) AS `count(gender)`)' in windowing function(s) or wrap 'cdw_sapp_loan_application.gender' in first() (or first_value) if you don't care which value you get.;\nAggregate [count(gender#46) AS count(gender)#727L, concat(gender#46,  ( , Application_Status#42,  )) AS gende#725]\n+- SubqueryAlias cdw_sapp_loan_application\n   +- View (`cdw_sapp_loan_application`, [Application_ID#41,Application_Status#42,Credit_History#43L,Dependents#44,Education#45,Gender#46,Income#47,Married#48,Property_Area#49,Self_Employed#50])\n      +- Relation [Application_ID#41,Application_Status#42,Credit_History#43L,Dependents#44,Education#45,Gender#46,Income#47,Married#48,Property_Area#49,Self_Employed#50] JDBCRelation((SELECT * FROM cdw_sapp_loan_application) SPARK_GEN_SUBQ_0) [numPartitions=1]\n"
     ]
    }
   ],
   "source": [
    "data=spark.sql(\"select COUNT(gender) AS total, concat(gender,' ( ', Application_Status,' )') as gende FROM cdw_sapp_loan_application  GROUP BY gender,Property_Area \")\n",
    "data=data.toPandas()\n",
    "\n",
    "figure(figsize = (20, 6), dpi = 80)\n",
    "\n",
    "plt.bar(data[\"gende\"],data[\"total\"])\n"
   ]
  },
  {
   "cell_type": "code",
   "execution_count": 93,
   "metadata": {},
   "outputs": [
    {
     "data": {
      "text/plain": [
       "Text(0, 0.5, 'TOTAL')"
      ]
     },
     "execution_count": 93,
     "metadata": {},
     "output_type": "execute_result"
    },
    {
     "data": {
      "image/png": "[encoded data removed]",
      "text/plain": [
       "<Figure size 1600x800 with 1 Axes>"
      ]
     },
     "metadata": {
      "needs_background": "light"
     },
     "output_type": "display_data"
    }
   ],
   "source": [
    "data=spark.sql(\"SELECT COUNT(Application_Status) as total, concat(Property_Area,' ( ',Application_Status,' )') as status FROM cdw_sapp_loan_application  GROUP BY Property_Area,Application_Status\")\n",
    "data=data.toPandas()\n",
    "\n",
    "figure(figsize = (20, 10), dpi = 80)\n",
    "\n",
    "plt.bar(data[\"status\"],data[\"total\"])\n",
    "\n",
    "plt.xlabel('Property_Area(Application_Status)')\n",
    "plt.ylabel(\"TOTAL\")\n"
   ]
  },
  {
   "cell_type": "code",
   "execution_count": 113,
   "metadata": {},
   "outputs": [],
   "source": []
  }
 ],
 "metadata": {
  "kernelspec": {
   "display_name": "Python 3.10.6 64-bit",
   "language": "python",
   "name": "python3"
  },
  "language_info": {
   "codemirror_mode": {
    "name": "ipython",
    "version": 3
   },
   "file_extension": ".py",
   "mimetype": "text/x-python",
   "name": "python",
   "nbconvert_exporter": "python",
   "pygments_lexer": "ipython3",
   "version": "3.10.6"
  },
  "orig_nbformat": 4,
  "vscode": {
   "interpreter": {
    "hash": "8b393f94c182e4c976da11603a504da7eccbed061cb5806c938c5228d7ebf9bb"
   }
  }
 },
 "nbformat": 4,
 "nbformat_minor": 2
}
